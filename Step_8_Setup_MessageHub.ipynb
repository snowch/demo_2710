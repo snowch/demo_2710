{
 "cells": [
  {
   "cell_type": "markdown",
   "metadata": {},
   "source": [
    "## Overview\n",
    "\n",
    "This notebook:\n",
    "\n",
    "- creates a MessageHub instance in Bluemix\n",
    "- produces some messages using vanilla python\n",
    "- consumes those messages using vanilla python\n",
    "- produces some more messages using vanilla python\n",
    "- consumes those messages using scala spark streaming\n",
    "- tears down the MessageHub instance"
   ]
  },
  {
   "cell_type": "markdown",
   "metadata": {},
   "source": [
    "Enter your bluemix ID"
   ]
  },
  {
   "cell_type": "code",
   "execution_count": 2,
   "metadata": {
    "collapsed": false
   },
   "outputs": [
    {
     "name": "stdout",
     "output_type": "stream",
     "text": [
      "IBM ID: chris.snow@uk.ibm.com\n"
     ]
    }
   ],
   "source": [
    "from getpass import getpass\n",
    "ibm_id = raw_input(\"IBM ID: \")"
   ]
  },
  {
   "cell_type": "markdown",
   "metadata": {},
   "source": [
    "Enter your bluemix ID password"
   ]
  },
  {
   "cell_type": "code",
   "execution_count": 3,
   "metadata": {
    "collapsed": false
   },
   "outputs": [
    {
     "name": "stdout",
     "output_type": "stream",
     "text": [
      "Password: ········\n"
     ]
    }
   ],
   "source": [
    "from getpass import getpass\n",
    "ibm_id_password = getpass(\"Password: \")"
   ]
  },
  {
   "cell_type": "markdown",
   "metadata": {},
   "source": [
    "Setup some variables that this notebook will use"
   ]
  },
  {
   "cell_type": "code",
   "execution_count": 4,
   "metadata": {
    "collapsed": true
   },
   "outputs": [],
   "source": [
    "# change this to point to your bluemix organization name\n",
    "bluemix_organization_name = 'chris.snow@uk.ibm.com'\n",
    "\n",
    "# change this to point to your bluemix space name\n",
    "bluemix_space_name = 'dev'\n",
    "\n",
    "# You may need to change the target_endpoint to:\n",
    "#\n",
    "#   https://api.ng.bluemix.net     - for the US South Region\n",
    "#   https://api.eu-gb.bluemix.net  - for the UK\n",
    "#   https://api.au-syd.bluemix.net - for Austrailia\n",
    "target_endpoint = 'https://api.ng.bluemix.net'\n",
    "\n",
    "# This is the name of the Message Hub service instance that will\n",
    "# be created for you in Bluemix\n",
    "messagehub_instance_name = 'my_messagehub'\n",
    "\n",
    "# This is the name of a topic that will get created for you\n",
    "messagehub_topic_name = 'my_topic'\n",
    "\n",
    "# Do you want to delete any existing MessageHub instance with\n",
    "# messagehub_instance_name for before creating a new one?\n",
    "delete_messagehub_instance = True\n",
    "\n",
    "# This is the guid of the Message Hub service plan. I found\n",
    "# this using:\n",
    "#\n",
    "#   cf = CloudFoundryUtil(target_endpoint, ibm_id, ibm_id_password)\n",
    "#   print(cf.search_plans('message hub'))\n",
    "mh_service_plan_guid = 'fe959ac5-aa47-43a6-9c58-6fc265ee9b0e'"
   ]
  },
  {
   "cell_type": "markdown",
   "metadata": {},
   "source": [
    "Install a python utility script from github for interacting with cloud foundry via the API"
   ]
  },
  {
   "cell_type": "code",
   "execution_count": 5,
   "metadata": {
    "collapsed": false
   },
   "outputs": [
    {
     "name": "stdout",
     "output_type": "stream",
     "text": [
      "Requirement already up-to-date: protobuf in /gpfs/global_fs01/sym_shared/YPProdSpark/user/s85d-88ebffb000cc3e-39ca506ba762/.local/lib/python2.7/site-packages\n",
      "Requirement already up-to-date: setuptools in /gpfs/global_fs01/sym_shared/YPProdSpark/user/s85d-88ebffb000cc3e-39ca506ba762/.local/lib/python2.7/site-packages (from protobuf)\n",
      "Requirement already up-to-date: six>=1.9 in /usr/local/src/bluemix_jupyter_bundle.v22/notebook/lib/python2.7/site-packages (from protobuf)\n"
     ]
    }
   ],
   "source": [
    "!pip install --user --upgrade protobuf\n",
    "!pip install --user --upgrade --quiet git+https://github.com/snowch/cf_utils"
   ]
  },
  {
   "cell_type": "markdown",
   "metadata": {},
   "source": [
    "Create a python object for interacting with cloud foundry"
   ]
  },
  {
   "cell_type": "code",
   "execution_count": 6,
   "metadata": {
    "collapsed": false
   },
   "outputs": [],
   "source": [
    "from cf_utils import cf_utils\n",
    "cf = cf_utils.CloudFoundryUtil(target_endpoint, ibm_id, ibm_id_password)"
   ]
  },
  {
   "cell_type": "markdown",
   "metadata": {},
   "source": [
    "Remove any MessageHub instances with the messagehub_instance_name"
   ]
  },
  {
   "cell_type": "code",
   "execution_count": 7,
   "metadata": {
    "collapsed": false
   },
   "outputs": [
    {
     "name": "stdout",
     "output_type": "stream",
     "text": [
      "\n"
     ]
    }
   ],
   "source": [
    "if delete_messagehub_instance:\n",
    "    cf.delete_service(service_instance_name=messagehub_instance_name, force=True)"
   ]
  },
  {
   "cell_type": "markdown",
   "metadata": {},
   "source": [
    "Create a MessageHub service instance"
   ]
  },
  {
   "cell_type": "code",
   "execution_count": 8,
   "metadata": {
    "collapsed": false
   },
   "outputs": [],
   "source": [
    "cf.create_service_instance(\n",
    "    bluemix_organization_name, \n",
    "    bluemix_space_name,\n",
    "    mh_service_plan_guid,\n",
    "    messagehub_instance_name,\n",
    ")"
   ]
  },
  {
   "cell_type": "markdown",
   "metadata": {},
   "source": [
    "Extract some variables that we will need to work with the MessageHub instance"
   ]
  },
  {
   "cell_type": "code",
   "execution_count": 29,
   "metadata": {
    "collapsed": false
   },
   "outputs": [],
   "source": [
    "bootstrap_servers = cf.get_service_credential(messagehub_instance_name, 'kafka_brokers_sasl')\n",
    "# print(bootstrap_servers)\n",
    "\n",
    "sasl_username = cf.get_service_credential(messagehub_instance_name, 'user')\n",
    "# print(sasl_username)\n",
    "\n",
    "sasl_password = cf.get_service_credential(messagehub_instance_name, 'password')\n",
    "# print(sasl_password)\n",
    "\n",
    "api_key = cf.get_service_credential(messagehub_instance_name, 'api_key')\n",
    "# print(api_key)\n",
    "\n",
    "kafka_admin_url = cf.get_service_credential(messagehub_instance_name, 'kafka_admin_url')\n",
    "# print(kafka_admin_url)\n",
    "\n",
    "kafka_rest_url = cf.get_service_credential(messagehub_instance_name, 'kafka_rest_url')\n",
    "# print(kafka_rest_url)\n",
    "\n",
    "with open('messagehub.properties', 'w') as w:\n",
    "    w.write('bootstrap_servers:{0}\\n'.format(','.join(bootstrap_servers)))\n",
    "    w.write('sasl_username={0}\\n'.format(sasl_username))\n",
    "    w.write('sasl_password={0}\\n'.format(sasl_password))\n",
    "    w.write('api_key={0}\\n'.format(api_key))\n",
    "    w.write('kafka_admin_url={0}\\n'.format(kafka_admin_url))\n",
    "    w.write('kafka_rest_url={0}\\n'.format(kafka_rest_url))\n",
    "    w.write('messagehub_topic_name:{0}\\n'.format(messagehub_topic_name))"
   ]
  },
  {
   "cell_type": "markdown",
   "metadata": {},
   "source": [
    "Create a topic in the MessageHub instance"
   ]
  },
  {
   "cell_type": "code",
   "execution_count": 18,
   "metadata": {
    "collapsed": false
   },
   "outputs": [
    {
     "name": "stdout",
     "output_type": "stream",
     "text": [
      "[{\"name\":\"my_topic\",\"partitions\":1,\"retentionMs\":\"86400000\",\"markedForDeletion\":false}]\n"
     ]
    }
   ],
   "source": [
    "import requests\n",
    "import json\n",
    "\n",
    "data = { 'name' : messagehub_topic_name }\n",
    "headers = {\n",
    "    'content-type': 'application/json',\n",
    "    'X-Auth-Token' : api_key \n",
    "}\n",
    "url = kafka_admin_url + '/admin/topics'\n",
    "\n",
    "# create the topic (http POST)\n",
    "response = requests.post(url, headers = headers, data = json.dumps(data))\n",
    "\n",
    "# verify the topic was created (http GET)\n",
    "response = requests.get(url, headers = headers, data = json.dumps(data))\n",
    "print (response.text)"
   ]
  },
  {
   "cell_type": "markdown",
   "metadata": {},
   "source": [
    "Install a python kafka client"
   ]
  },
  {
   "cell_type": "code",
   "execution_count": 19,
   "metadata": {
    "collapsed": false
   },
   "outputs": [],
   "source": [
    "!pip install --user --quiet kafka-python"
   ]
  },
  {
   "cell_type": "markdown",
   "metadata": {},
   "source": [
    "Create a kafka producer"
   ]
  },
  {
   "cell_type": "code",
   "execution_count": 20,
   "metadata": {
    "collapsed": false
   },
   "outputs": [],
   "source": [
    "def produce_message(message):\n",
    "    \n",
    "    # FIXME:this is a lot of overhead - creating a new KafkaProducer each time\n",
    "    # a message is produced\n",
    "    \n",
    "    from kafka import KafkaProducer\n",
    "    from kafka.errors import KafkaError\n",
    "    import ssl\n",
    "\n",
    "    sasl_plain_username = sasl_username\n",
    "    sasl_plain_password = sasl_password \n",
    "\n",
    "    sasl_mechanism = 'PLAIN'\n",
    "    security_protocol = 'SASL_SSL'\n",
    "\n",
    "    # Create a new context using system defaults, disable all but TLS1.2\n",
    "    context = ssl.create_default_context()\n",
    "    context.options &= ssl.OP_NO_TLSv1\n",
    "    context.options &= ssl.OP_NO_TLSv1_1\n",
    "\n",
    "    producer = KafkaProducer(bootstrap_servers = bootstrap_servers,\n",
    "                             sasl_plain_username = sasl_plain_username,\n",
    "                             sasl_plain_password = sasl_plain_password,\n",
    "                             security_protocol = security_protocol,\n",
    "                             ssl_context = context,\n",
    "                             sasl_mechanism = sasl_mechanism,\n",
    "                             api_version = (0,10))\n",
    "\n",
    "    producer.send(messagehub_topic_name, message)\n",
    "    producer.flush()"
   ]
  },
  {
   "cell_type": "markdown",
   "metadata": {},
   "source": [
    "Send some messages"
   ]
  },
  {
   "cell_type": "code",
   "execution_count": null,
   "metadata": {
    "collapsed": true
   },
   "outputs": [],
   "source": [
    "produce_message(b'some_raw_bytes_1')\n",
    "produce_message(b'some_raw_bytes_2')"
   ]
  },
  {
   "cell_type": "markdown",
   "metadata": {},
   "source": [
    "Create a kafka consumer to consume the messages"
   ]
  },
  {
   "cell_type": "code",
   "execution_count": null,
   "metadata": {
    "collapsed": false
   },
   "outputs": [],
   "source": [
    "def consume_messages():\n",
    "    from kafka import KafkaConsumer\n",
    "    from kafka.errors import KafkaError\n",
    "    import ssl\n",
    "\n",
    "    sasl_plain_username = sasl_username\n",
    "    sasl_plain_password = sasl_password \n",
    "\n",
    "    sasl_mechanism = 'PLAIN'\n",
    "    security_protocol = 'SASL_SSL'\n",
    "\n",
    "    # Create a new context using system defaults, disable all but TLS1.2\n",
    "    context = ssl.create_default_context()\n",
    "    context.options &= ssl.OP_NO_TLSv1\n",
    "    context.options &= ssl.OP_NO_TLSv1_1\n",
    "\n",
    "    consumer = KafkaConsumer(messagehub_topic_name,\n",
    "                             bootstrap_servers = bootstrap_servers,\n",
    "                             sasl_plain_username = sasl_plain_username,\n",
    "                             sasl_plain_password = sasl_plain_password,\n",
    "                             security_protocol = security_protocol,\n",
    "                             ssl_context = context,\n",
    "                             sasl_mechanism = sasl_mechanism,\n",
    "                             api_version = (0,10),\n",
    "                             consumer_timeout_ms = 10000,\n",
    "                             auto_offset_reset = 'earliest',\n",
    "                             group_id = \"python_client\")\n",
    "\n",
    "    for message in consumer:\n",
    "        print (\"%s:%d:%d: key=%s value=%s\" % (message.topic, message.partition,\n",
    "                                              message.offset, message.key,\n",
    "                                              message.value))\n",
    "\n",
    "consume_messages()"
   ]
  },
  {
   "cell_type": "markdown",
   "metadata": {},
   "source": [
    "Now open the notebook **\"Step 9 - Scala spark streaming on DSX\"** in another browser window.<br>\n",
    "Run the notebook and while it is running, put some more messages in kafka by running the cell below."
   ]
  },
  {
   "cell_type": "code",
   "execution_count": 80,
   "metadata": {
    "collapsed": false
   },
   "outputs": [],
   "source": [
    "produce_message('1,500') # user_id | movie_id\n",
    "produce_message('1,501') # user_id | movie_id\n",
    "produce_message('1,502') # user_id | movie_id\n",
    "produce_message('1,503') # user_id | movie_id\n",
    "produce_message('100000,503') # user_id | movie_id : invalid user"
   ]
  },
  {
   "cell_type": "markdown",
   "metadata": {},
   "source": [
    "Remove the MessageHub instance from Bluemix"
   ]
  },
  {
   "cell_type": "code",
   "execution_count": null,
   "metadata": {
    "collapsed": false
   },
   "outputs": [],
   "source": [
    "if delete_messagehub_instance:\n",
    "    cf.delete_service(service_instance_name=messagehub_instance_name, force=True)"
   ]
  },
  {
   "cell_type": "code",
   "execution_count": null,
   "metadata": {
    "collapsed": true
   },
   "outputs": [],
   "source": []
  }
 ],
 "metadata": {
  "kernelspec": {
   "display_name": "Python 2 with Spark 1.6",
   "language": "python",
   "name": "python2"
  },
  "language_info": {
   "codemirror_mode": {
    "name": "ipython",
    "version": 2
   },
   "file_extension": ".py",
   "mimetype": "text/x-python",
   "name": "python",
   "nbconvert_exporter": "python",
   "pygments_lexer": "ipython2",
   "version": "2.7.11"
  }
 },
 "nbformat": 4,
 "nbformat_minor": 0
}