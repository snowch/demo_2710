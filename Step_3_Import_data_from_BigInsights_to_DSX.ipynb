{
 "cells": [
  {
   "cell_type": "markdown",
   "metadata": {},
   "source": [
    "## Overview\n",
    "\n",
    "This notebook retrieves movie rating data from BigInsights over webhdfs.  The data was copied to the cluster in the previous step."
   ]
  },
  {
   "cell_type": "markdown",
   "metadata": {},
   "source": [
    "### Read the cluster connection information"
   ]
  },
  {
   "cell_type": "markdown",
   "metadata": {},
   "source": [
    "We retrieve the cluster hostname, username and password that were saved to DSX in Step 1."
   ]
  },
  {
   "cell_type": "code",
   "execution_count": 16,
   "metadata": {
    "collapsed": false
   },
   "outputs": [],
   "source": [
    "with open('credentials', 'r') as f:\n",
    "    (hostname, username, password) = f.readline().split(',')"
   ]
  },
  {
   "cell_type": "markdown",
   "metadata": {},
   "source": [
    "The next cell setups up a python object we can use to interact with our cluster. If you are using this notebook with an 'Enterprise' cluster, you will need to uncomment the line as shown."
   ]
  },
  {
   "cell_type": "code",
   "execution_count": 17,
   "metadata": {
    "collapsed": false
   },
   "outputs": [],
   "source": [
    "!pip install --user --quiet pywebhdfs\n",
    "from pywebhdfs.webhdfs import PyWebHdfsClient\n",
    "hdfs = PyWebHdfsClient( \n",
    "    base_uri_pattern=\"https://{0}:8443/gateway/default/webhdfs/v1\".format(hostname),\n",
    "    request_extra_opts={\n",
    "        'auth': (username, password),\n",
    "        # 'verify': False, # uncomment this for Enterprise clusters\n",
    "    }\n",
    ")"
   ]
  },
  {
   "cell_type": "markdown",
   "metadata": {},
   "source": [
    "### Load the movie rating data"
   ]
  },
  {
   "cell_type": "markdown",
   "metadata": {},
   "source": [
    "We can now load the rating data from webHDFS and save it onto DSX local file storage."
   ]
  },
  {
   "cell_type": "markdown",
   "metadata": {},
   "source": [
    "First set the path to the file in HDFS"
   ]
  },
  {
   "cell_type": "code",
   "execution_count": 3,
   "metadata": {
    "collapsed": false,
    "scrolled": true
   },
   "outputs": [
    {
     "name": "stdout",
     "output_type": "stream",
     "text": [
      "//user/demouser/ratings.dat\n"
     ]
    }
   ],
   "source": [
    "ratings_path = '//user/{0}/ratings.dat'.format(username)\n",
    "print(ratings_path)"
   ]
  },
  {
   "cell_type": "markdown",
   "metadata": {},
   "source": [
    "Now retrieve the file contents into a variable - see NOTE 1 for a discussion on this approach"
   ]
  },
  {
   "cell_type": "code",
   "execution_count": 19,
   "metadata": {
    "collapsed": true
   },
   "outputs": [],
   "source": [
    "ratings_data = hdfs.read_file(ratings_path)"
   ]
  },
  {
   "cell_type": "markdown",
   "metadata": {},
   "source": [
    "Save the data to a file on DSX"
   ]
  },
  {
   "cell_type": "code",
   "execution_count": 19,
   "metadata": {
    "collapsed": true
   },
   "outputs": [],
   "source": [
    "with open('ratings.dat', 'w') as f:\n",
    "    f.write(ratings_data)"
   ]
  },
  {
   "cell_type": "markdown",
   "metadata": {},
   "source": [
    "Let's visually inspect the data to get a 'feel' for it:"
   ]
  },
  {
   "cell_type": "code",
   "execution_count": 20,
   "metadata": {
    "collapsed": false
   },
   "outputs": [
    {
     "name": "stdout",
     "output_type": "stream",
     "text": [
      "1::1193::5::978300760\n",
      "1::661::3::978302109\n",
      "1::914::3::978301968\n",
      "\n",
      "6040::562::5::956704746\n",
      "6040::1096::4::956715648\n",
      "6040::1097::4::956715569\n"
     ]
    }
   ],
   "source": [
    "!head -3 ratings.dat\n",
    "!echo\n",
    "!tail -3 ratings.dat"
   ]
  },
  {
   "cell_type": "markdown",
   "metadata": {},
   "source": [
    "Note the format of the dataset: <br/>\n",
    "- No header record<br/>\n",
    "- The fields are - `UserID::MovieID::Rating::Timestamp`"
   ]
  },
  {
   "cell_type": "markdown",
   "metadata": {
    "collapsed": true
   },
   "source": [
    "---\n",
    "## NOTE 1\n",
    "\n",
    "The approach used in this notebook is a tactical solution:\n",
    "\n",
    "- The DSX storage space is limited to a few GB per user.\n",
    "- Lab services are open sourcing a spark webHDFS connect which will read webHDFS data directly into a spark dataframe.<br>See https://issues.apache.org/jira/browse/BAHIR-67 for more information.\n",
    "- Future offerings of DSX and BigInsights will have tighter integration of DSX and BigInsights spark.<br>See https://datascix.uservoice.com/forums/387207-general/suggestions/16274593-integrate-with-biginsights.\n",
    "- We are reading all of the data into memory in the notebook which will not scale.<br>There is a pull request on the pywebhdfs library to fix this: https://github.com/pywebhdfs/pywebhdfs/pull/46.\n",
    "- A similar approach could be coded by hand using python's requests library:\n",
    "\n",
    "```\n",
    "chunk_size = 200000000 # Read in 200 Mb chunks\n",
    "url = \"https://{0}:8443/gateway/default/webhdfs/v1/{1}?op=OPEN\".format(host, webhdfs_filepath)\n",
    "r = requests.get(url, auth=(username, password), verify=True, allow_redirects=True, stream=True)\n",
    "\n",
    "chunk_num = 1\n",
    "with open(local_filepath, 'wb') as f:\n",
    "    for chunk in r.iter_content(chunk_size):\n",
    "        if chunk: # filter out keep-alive new chunks\n",
    "           print('{0} writing chunk {1}'.format(datetime.datetime.now(), chunk_num))\n",
    "           f.write(chunk)\n",
    "           chunk_num = chunk_num + 1\n",
    "```"
   ]
  }
 ],
 "metadata": {
  "kernelspec": {
   "display_name": "Python 2 with Spark 1.6",
   "language": "python",
   "name": "python2"
  },
  "language_info": {
   "codemirror_mode": {
    "name": "ipython",
    "version": 2
   },
   "file_extension": ".py",
   "mimetype": "text/x-python",
   "name": "python",
   "nbconvert_exporter": "python",
   "pygments_lexer": "ipython2",
   "version": "2.7.11"
  }
 },
 "nbformat": 4,
 "nbformat_minor": 0
}