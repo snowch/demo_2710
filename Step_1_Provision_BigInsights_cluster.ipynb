{
 "cells": [
  {
   "cell_type": "markdown",
   "metadata": {},
   "source": [
    "## Overview\n",
    "\n",
    "This notebook shows you how to provision a BigInsights on cloud cluster on Bluemix.\n",
    "The cluster is then loaded with the movielens ml-1m dataset."
   ]
  },
  {
   "cell_type": "markdown",
   "metadata": {},
   "source": [
    "## Provision a BigInsights on cloud cluster\n",
    "\n",
    "Follow these instructions to provision a 'Basic' BigInsights on cloud cluster:\n",
    "    \n",
    "- Understand more about the 'Basic' plan - https://developer.ibm.com/clouddataservices/docs/biginsights/basic-plan/\n",
    "- Set Up a Cluster - https://developer.ibm.com/clouddataservices/docs/biginsights/get-started-in-bluemix/set-up-cluster/"
   ]
  },
  {
   "cell_type": "markdown",
   "metadata": {
    "collapsed": true
   },
   "source": [
    "### Save the cluster connection information"
   ]
  },
  {
   "cell_type": "markdown",
   "metadata": {},
   "source": [
    "Next, we prompt for the credentials"
   ]
  },
  {
   "cell_type": "code",
   "execution_count": 41,
   "metadata": {
    "collapsed": false
   },
   "outputs": [
    {
     "name": "stdout",
     "output_type": "stream",
     "text": [
      "Hostname: bi-hadoop-prod-4017.bi.services.us-south.bluemix.net\n"
     ]
    }
   ],
   "source": [
    "# Enter the cluster hostname, e.g. bi-hadoop-prod-1234.bi.services.us-south.bluemix.net\n",
    "hostname = raw_input('Hostname: ')"
   ]
  },
  {
   "cell_type": "code",
   "execution_count": 42,
   "metadata": {
    "collapsed": true
   },
   "outputs": [],
   "source": [
    "# We use the python getpass library to hide the username and password for our cluster\n",
    "from getpass import getpass"
   ]
  },
  {
   "cell_type": "code",
   "execution_count": 43,
   "metadata": {
    "collapsed": false
   },
   "outputs": [
    {
     "name": "stdout",
     "output_type": "stream",
     "text": [
      "Username: ········\n"
     ]
    }
   ],
   "source": [
    "# Enter the username you used for the cluster\n",
    "username = getpass('Username: ')"
   ]
  },
  {
   "cell_type": "code",
   "execution_count": 44,
   "metadata": {
    "collapsed": false
   },
   "outputs": [
    {
     "name": "stdout",
     "output_type": "stream",
     "text": [
      "Password: ········\n"
     ]
    }
   ],
   "source": [
    "# This will prompt you for your password for the cluster\n",
    "password = getpass(\"Password: \")"
   ]
  },
  {
   "cell_type": "markdown",
   "metadata": {},
   "source": [
    "Save the credentials to DSX local storage"
   ]
  },
  {
   "cell_type": "code",
   "execution_count": 45,
   "metadata": {
    "collapsed": true
   },
   "outputs": [],
   "source": [
    "with open('credentials', 'w') as f:\n",
    "    f.write( ','.join([hostname, username, password]) )"
   ]
  },
  {
   "cell_type": "markdown",
   "metadata": {},
   "source": [
    "verify the file was created in our home folder"
   ]
  },
  {
   "cell_type": "code",
   "execution_count": 46,
   "metadata": {
    "collapsed": false
   },
   "outputs": [
    {
     "name": "stdout",
     "output_type": "stream",
     "text": [
      "Thu Oct 27 15:25:20 CDT 2016\n",
      "\n",
      "-rw-r--r-- 1 sdd1-7e9fd7607be53e-39ca506ba762 users 75 Oct 27 15:24 /gpfs/fs01/user/sdd1-7e9fd7607be53e-39ca506ba762/notebook/work/credentials\n"
     ]
    }
   ],
   "source": [
    "!date\n",
    "!echo\n",
    "!ls -alrt `pwd`/credentials"
   ]
  },
  {
   "cell_type": "code",
   "execution_count": null,
   "metadata": {
    "collapsed": true
   },
   "outputs": [],
   "source": []
  }
 ],
 "metadata": {
  "kernelspec": {
   "display_name": "Python 2 with Spark 1.6",
   "language": "python",
   "name": "python2"
  },
  "language_info": {
   "codemirror_mode": {
    "name": "ipython",
    "version": 2
   },
   "file_extension": ".py",
   "mimetype": "text/x-python",
   "name": "python",
   "nbconvert_exporter": "python",
   "pygments_lexer": "ipython2",
   "version": "2.7.11"
  }
 },
 "nbformat": 4,
 "nbformat_minor": 0
}