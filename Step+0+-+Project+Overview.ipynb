{
 "cells": [
  {
   "cell_type": "markdown",
   "metadata": {},
   "source": [
    "## Overview\n",
    "\n",
    "This demo is to be presented at World of Watson 2016 - \"Accelerate Your Data Science Delivery with Integrated Notebooks and IBM BigInsights\". <br/>\n",
    "The session link is here: https://www-01.ibm.com/events/global/wow/sessions/#/search/id/DMT-3516\n",
    "\n",
    "- The purpose of this Data Science Experience (DSX) project is to show how data from IBM BigInsights on cloud can analysed using DSX notebooks. \n",
    "- This project uses the http://grouplens.org/datasets/movielens/ ml-1m dataset to build a movie recommendation model using PySpark.\n",
    "- The ml-1m dataset consists of 1 million ratings from 6000 users on 4000 movies. It was released on 2/2003.\n",
    "\n",
    "The movielens front end application where users can rate movies is available here: https://movielens.org/. <br/>\n",
    "A screenshot of the movielens user interface can be seen here:\n"
   ]
  },
  {
   "cell_type": "markdown",
   "metadata": {},
   "source": [
    "<div style=\"text-align:center\" markdown=\"1\">\n",
    "<img src=\"https://movielens.org/images/site/main-screen.png\" width=\"50%\" style=\"float: left;\" />\n",
    "</div>"
   ]
  },
  {
   "cell_type": "markdown",
   "metadata": {
    "collapsed": true
   },
   "source": [
    "\n",
    "## Instructions\n",
    "\n",
    "The project is split into a number of different notebooks that focus on specific steps:\n",
    "\n",
    "\n",
    "#### Step 1 - Provision BigInsights cluster\n",
    "\n",
    "This notebook shows you how to provision a BigInsights on cloud cluster on Bluemix.<br>\n",
    "\n",
    "#### Step 2 - Setup BigInsights with MovieLens data\n",
    "\n",
    "The cluster is then loaded with the movielens ml-1m dataset using this notebook.\n",
    "\n",
    "#### Step 3 - Import data from BigInsights to DSX\n",
    "\n",
    "In this step, we import the BigInsights ml-1m dataset into DSX.<br>\n",
    "\n",
    "#### Step 4 - Exploratory analysis\n",
    "\n",
    "In this notebook, we perform some basic exploratory analysis of the ml-1m dataset before we jump into machine learning.\n",
    "\n",
    "#### Step 5 - Train model\n",
    "\n",
    "Here we use Spark's Machine Learning Library (MLlib) to train a machine learning model on the data.\n",
    "\n",
    "#### Step 6 - Predict ratings\n",
    "\n",
    "In this notebook, we simulate a new user's movie ratings and then use those ratings to predice movies for them.\n",
    "\n",
    "#### Step 7 - Export Spark model to BigInsights\n",
    "\n",
    "This notebook exports the model built in the previous notebook. <br/>A scala spark job is then run on BigInsights that loads the model and predicts a rating for a user.\n",
    "\n",
    "\n",
    "## Support\n",
    "\n",
    "If you have any questions about this project, please contact me at <chris.snow@uk.ibm.com>\n",
    "\n",
    "\n",
    "## Credits\n",
    "\n",
    "- Thanks to University of Minnesota for allowing the movielens data to be used for this demo.\n",
    "- This site was really useful https://github.com/jadianes/spark-movie-lens\n"
   ]
  },
  {
   "cell_type": "code",
   "execution_count": null,
   "metadata": {
    "collapsed": true
   },
   "outputs": [],
   "source": []
  }
 ],
 "metadata": {
  "kernelspec": {
   "display_name": "Python 2",
   "language": "python",
   "name": "python2"
  },
  "language_info": {
   "codemirror_mode": {
    "name": "ipython",
    "version": 2
   },
   "file_extension": ".py",
   "mimetype": "text/x-python",
   "name": "python",
   "nbconvert_exporter": "python",
   "pygments_lexer": "ipython2",
   "version": "2.7.11"
  }
 },
 "nbformat": 4,
 "nbformat_minor": 0
}