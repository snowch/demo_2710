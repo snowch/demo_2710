{
 "cells": [
  {
   "cell_type": "markdown",
   "metadata": {},
   "source": [
    "## Overview\n",
    "\n",
    "This notebook loads the movie rating data from DSX's local storage then it trains an *alternating least square* (ALS) model using Spark's Machine Learning library (MLlib).<br>\n",
    "For more information on Spark ALS, see here:\n",
    "- http://spark.apache.org/docs/latest/mllib-collaborative-filtering.html#collaborative-filtering\n",
    "- https://github.com/jadianes/spark-movie-lens"
   ]
  },
  {
   "cell_type": "markdown",
   "metadata": {},
   "source": [
    "## Load the data"
   ]
  },
  {
   "cell_type": "markdown",
   "metadata": {},
   "source": [
    "Again, let's preview the data"
   ]
  },
  {
   "cell_type": "code",
   "execution_count": 7,
   "metadata": {
    "collapsed": false
   },
   "outputs": [
    {
     "name": "stdout",
     "output_type": "stream",
     "text": [
      "1::1193::5::978300760\n",
      "1::661::3::978302109\n",
      "1::914::3::978301968\n",
      "\n",
      "6040::562::5::956704746\n",
      "6040::1096::4::956715648\n",
      "6040::1097::4::956715569\n"
     ]
    }
   ],
   "source": [
    "!head -3 ratings.dat\n",
    "!echo\n",
    "!tail -3 ratings.dat"
   ]
  },
  {
   "cell_type": "markdown",
   "metadata": {},
   "source": [
    "The data is in the format:\n",
    "    \n",
    "`UserID::MovieID::Rating::Timestamp`\n",
    "                        \n",
    "Now load it into an RDD"
   ]
  },
  {
   "cell_type": "code",
   "execution_count": 8,
   "metadata": {
    "collapsed": false
   },
   "outputs": [],
   "source": [
    "from pyspark.mllib.recommendation import Rating\n",
    "\n",
    "ratingsRDD = sc.textFile('ratings.dat') \\\n",
    "               .map(lambda l: l.split(\"::\")) \\\n",
    "               .map(lambda p: Rating(\n",
    "                                  user = int(p[0]), \n",
    "                                  product = int(p[1]),\n",
    "                                  rating = float(p[2]), \n",
    "                                  )).cache()"
   ]
  },
  {
   "cell_type": "markdown",
   "metadata": {},
   "source": [
    "It's useful to check some highlevel statistics on the data. At this point, I'm mainly interested in the row count."
   ]
  },
  {
   "cell_type": "code",
   "execution_count": 9,
   "metadata": {
    "collapsed": false
   },
   "outputs": [
    {
     "name": "stdout",
     "output_type": "stream",
     "text": [
      "+-------+------------------+------------------+------------------+\n",
      "|summary|              user|           product|            rating|\n",
      "+-------+------------------+------------------+------------------+\n",
      "|  count|           1000209|           1000209|           1000209|\n",
      "|   mean| 3024.512347919285|1865.5398981612843| 3.581564453029317|\n",
      "| stddev|1728.4126948999951|1096.0406894572552|1.1171018453732544|\n",
      "|    min|                 1|                 1|               1.0|\n",
      "|    max|              6040|              3952|               5.0|\n",
      "+-------+------------------+------------------+------------------+\n",
      "\n"
     ]
    }
   ],
   "source": [
    "ratingsRDD.toDF().describe().show()"
   ]
  },
  {
   "cell_type": "markdown",
   "metadata": {
    "collapsed": true
   },
   "source": [
    "## Split into training and testing"
   ]
  },
  {
   "cell_type": "markdown",
   "metadata": {},
   "source": [
    "Next we split the data into training and testing data sets"
   ]
  },
  {
   "cell_type": "code",
   "execution_count": 10,
   "metadata": {
    "collapsed": false
   },
   "outputs": [
    {
     "name": "stdout",
     "output_type": "stream",
     "text": [
      "Total: 1000209, Training: 800790, test: 199419\n"
     ]
    }
   ],
   "source": [
    "(training, test) = ratingsRDD.randomSplit([0.8, 0.2])\n",
    "\n",
    "numTraining = training.count()\n",
    "numTest = test.count()\n",
    "\n",
    "# verify row counts for each dataset\n",
    "print(\"Total: {0}, Training: {1}, test: {2}\".format(ratingsRDD.count(), numTraining, numTest))"
   ]
  },
  {
   "cell_type": "markdown",
   "metadata": {},
   "source": [
    "## Build the recommendation model using ALS on the training data"
   ]
  },
  {
   "cell_type": "markdown",
   "metadata": {},
   "source": [
    "I've chosen some values for the ALS parameters.  You should probaly experiment with different values."
   ]
  },
  {
   "cell_type": "code",
   "execution_count": 11,
   "metadata": {
    "collapsed": false
   },
   "outputs": [],
   "source": [
    "from pyspark.mllib.recommendation import ALS\n",
    "\n",
    "rank = 50\n",
    "numIterations = 20\n",
    "lambdaParam = 0.1\n",
    "model = ALS.train(training, rank, numIterations, lambdaParam)"
   ]
  },
  {
   "cell_type": "markdown",
   "metadata": {},
   "source": [
    "Let's save the model ..."
   ]
  },
  {
   "cell_type": "code",
   "execution_count": 207,
   "metadata": {
    "collapsed": false
   },
   "outputs": [],
   "source": [
    "pf = model.productFeatures()\n",
    "Vt = np.matrix(np.asarray(pf.values().collect()))\n",
    "\n",
    "def save_Vt(Vt, outfile):\n",
    "    Vt.dump(outfile.name)\n",
    "    # TODO upload outfile to Cloudant database\n",
    "    \n",
    "def load_Vt(outfile):\n",
    "    # TODO download outfile from Cloudant database\n",
    "    Vt = np.load(outfile.name)\n",
    "    return Vt\n",
    "\n",
    "def simulate_saving_Vt_to_remote_storage(Vt):\n",
    "    from tempfile import NamedTemporaryFile\n",
    "    outfile = NamedTemporaryFile()\n",
    "    save_Vt(Vt, outfile)\n",
    "    outfile.seek(0) # Only needed here to simulate closing & reopening file\n",
    "    return load_Vt(outfile)\n"
   ]
  },
  {
   "cell_type": "code",
   "execution_count": 208,
   "metadata": {
    "collapsed": false
   },
   "outputs": [],
   "source": [
    "Vt = simulate_saving_Vt_to_remote_storage(Vt)"
   ]
  },
  {
   "cell_type": "code",
   "execution_count": 209,
   "metadata": {
    "collapsed": false
   },
   "outputs": [
    {
     "name": "stdout",
     "output_type": "stream",
     "text": [
      "('predicted rating value', matrix([[ 14.54882126,  14.56155905,  14.56796413,  14.60397112,\n",
      "          14.61495758,  14.88292751,  15.15791346,  15.33834965,\n",
      "          16.05929494,  16.5434285 ]]))\n",
      "('predict rating prod_id', 'array([ 280,  714, 1856, 2211, 2302, 2661, 2832, 3028, 3094, 3330])')\n"
     ]
    }
   ],
   "source": [
    "full_u = np.zeros(3676)\n",
    "full_u[1] = 5 # user has rated product_id:1 = 5\n",
    "recommendations = full_u*Vt*Vt.T\n",
    "\n",
    "print(\"predicted rating value\", np.sort(recommendations)[:,-10:])\n",
    "\n",
    "top_ten_recommended_product_ids = np.where(recommendations >= np.sort(recommendations)[:,-10:].min())[1]\n",
    "\n",
    "print(\"predict rating prod_id\", np.array_repr(top_ten_recommended_product_ids))"
   ]
  },
  {
   "cell_type": "code",
   "execution_count": null,
   "metadata": {
    "collapsed": true
   },
   "outputs": [],
   "source": []
  }
 ],
 "metadata": {
  "kernelspec": {
   "display_name": "Python 2 with Spark 1.6",
   "language": "python",
   "name": "python2"
  },
  "language_info": {
   "codemirror_mode": {
    "name": "ipython",
    "version": 2
   },
   "file_extension": ".py",
   "mimetype": "text/x-python",
   "name": "python",
   "nbconvert_exporter": "python",
   "pygments_lexer": "ipython2",
   "version": "2.7.11"
  }
 },
 "nbformat": 4,
 "nbformat_minor": 0
}