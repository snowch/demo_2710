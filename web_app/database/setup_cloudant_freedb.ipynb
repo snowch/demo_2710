{
 "cells": [
  {
   "cell_type": "markdown",
   "metadata": {},
   "source": [
    "## Download freedb dataset"
   ]
  },
  {
   "cell_type": "code",
   "execution_count": 10,
   "metadata": {
    "collapsed": false
   },
   "outputs": [
    {
     "name": "stdout",
     "output_type": "stream",
     "text": [
      "Dataset already downloaded.\n"
     ]
    }
   ],
   "source": [
    "%%bash\n",
    "if [[ \"$(md5sum freedb-complete-20161101.tar.bz2)\" == \"2182ec11b8cd61eea43d13169f28c894  freedb-complete-20161101.tar.bz2\" ]]\n",
    "then \n",
    "    echo 'Dataset already downloaded.'\n",
    "else\n",
    "    wget http://ftp.freedb.org/pub/freedb/freedb-complete-20161101.tar.bz2\n",
    "    tar -xf freedb-complete-20161101.tar.bz2\n",
    "fi"
   ]
  },
  {
   "cell_type": "markdown",
   "metadata": {},
   "source": [
    "---\n",
    "## Setup cloud foundry utilities"
   ]
  },
  {
   "cell_type": "code",
   "execution_count": null,
   "metadata": {
    "collapsed": false
   },
   "outputs": [],
   "source": [
    "!pip install --user --upgrade --quiet git+https://github.com/snowch/nb_utils"
   ]
  },
  {
   "cell_type": "code",
   "execution_count": 11,
   "metadata": {
    "collapsed": false
   },
   "outputs": [
    {
     "name": "stdout",
     "output_type": "stream",
     "text": [
      "ibm id: ········\n",
      "ibm id password: ········\n"
     ]
    }
   ],
   "source": [
    "from getpass import getpass\n",
    "\n",
    "ibm_id = getpass(\"ibm id: \")\n",
    "ibm_id_password = getpass(\"ibm id password: \")\n",
    "bluemix_organization_name = 'chris.snow@uk.ibm.com'\n",
    "bluemix_space_name = 'dev'\n",
    "\n",
    "#   https://api.ng.bluemix.net     - for the US South Region\n",
    "#   https://api.eu-gb.bluemix.net  - for the UK\n",
    "#   https://api.au-syd.bluemix.net - for Australia\n",
    "\n",
    "target_endpoint = 'https://api.ng.bluemix.net'"
   ]
  },
  {
   "cell_type": "code",
   "execution_count": 22,
   "metadata": {
    "collapsed": false
   },
   "outputs": [],
   "source": [
    "from cf_utils import cf_utils\n",
    "cf = cf_utils.CloudFoundryUtil(target_endpoint, ibm_id, ibm_id_password, bluemix_organization_name, bluemix_space_name)\n",
    "\n",
    "# cf.search_plans('cloudant')\n",
    "# >> cloudant lite service_guide = 14c83ad2-6fd4-439a-8c3a-d1a20f8a2381"
   ]
  },
  {
   "cell_type": "markdown",
   "metadata": {},
   "source": [
    "## Create cloudant service instance and database"
   ]
  },
  {
   "cell_type": "code",
   "execution_count": 40,
   "metadata": {
    "collapsed": false
   },
   "outputs": [
    {
     "name": "stdout",
     "output_type": "stream",
     "text": [
      "Requirement already satisfied (use --upgrade to upgrade): cloudant in /gpfs/global_fs01/sym_shared/YPProdSpark/user/s85d-88ebffb000cc3e-39ca506ba762/.local/lib/python2.7/site-packages\r\n",
      "Requirement already satisfied (use --upgrade to upgrade): requests<3.0.0,>=2.7.0 in /gpfs/global_fs01/sym_shared/YPProdSpark/user/s85d-88ebffb000cc3e-39ca506ba762/.local/lib/python2.7/site-packages (from cloudant)\r\n"
     ]
    }
   ],
   "source": [
    "!pip install --user cloudant"
   ]
  },
  {
   "cell_type": "code",
   "execution_count": 23,
   "metadata": {
    "collapsed": false
   },
   "outputs": [],
   "source": [
    "cf.create_service_instance('14c83ad2-6fd4-439a-8c3a-d1a20f8a2381', 'my_cloudant', create_default_credentials = True)"
   ]
  },
  {
   "cell_type": "code",
   "execution_count": 24,
   "metadata": {
    "collapsed": false
   },
   "outputs": [],
   "source": [
    "vcap = {\n",
    "  \"cloudantNoSQLDB\": [\n",
    "    {\n",
    "      \"credentials\": cf.get_service_credentials('my_cloudant')\n",
    "    } ]\n",
    "}\n",
    "import json\n",
    "#print(json.dumps(vcap))"
   ]
  },
  {
   "cell_type": "code",
   "execution_count": 25,
   "metadata": {
    "collapsed": false
   },
   "outputs": [],
   "source": [
    "cl_url  = cf.get_service_credentials('my_cloudant')['url']\n",
    "cl_host = cf.get_service_credentials('my_cloudant')['host']\n",
    "cl_user = cf.get_service_credentials('my_cloudant')['username']\n",
    "cl_pass = cf.get_service_credentials('my_cloudant')['password']"
   ]
  },
  {
   "cell_type": "markdown",
   "metadata": {},
   "source": [
    "Delete database"
   ]
  },
  {
   "cell_type": "code",
   "execution_count": 45,
   "metadata": {
    "collapsed": false
   },
   "outputs": [
    {
     "name": "stdout",
     "output_type": "stream",
     "text": [
      "{\"ok\":true}\n",
      "\n"
     ]
    }
   ],
   "source": [
    "import requests\n",
    "response = requests.delete(cl_url + '/musicdb', auth=(cl_user, cl_pass))\n",
    "print(response.text)"
   ]
  },
  {
   "cell_type": "markdown",
   "metadata": {},
   "source": [
    "Create database"
   ]
  },
  {
   "cell_type": "code",
   "execution_count": 46,
   "metadata": {
    "collapsed": false
   },
   "outputs": [
    {
     "name": "stdout",
     "output_type": "stream",
     "text": [
      "{\"ok\":true}\n",
      "\n"
     ]
    }
   ],
   "source": [
    "import requests\n",
    "response = requests.put(cl_url + '/musicdb', auth=(cl_user, cl_pass))\n",
    "print(response.text)"
   ]
  },
  {
   "cell_type": "code",
   "execution_count": 35,
   "metadata": {
    "collapsed": false
   },
   "outputs": [
    {
     "name": "stdout",
     "output_type": "stream",
     "text": [
      "COPYING\t\t\t\t  jazz\t\t\t nohup.out\r\n",
      "README\t\t\t\t  messagehub.properties  ratings.dat\r\n",
      "blues\t\t\t\t  misc\t\t\t recommender_model\r\n",
      "classical\t\t\t  ml-1m\t\t\t recommender_model.tgz\r\n",
      "country\t\t\t\t  ml-1m.zip\t\t reggae\r\n",
      "data\t\t\t\t  ml-1m.zip.1\t\t rock\r\n",
      "demo_2710\t\t\t  ml-1m.zip.2\t\t soundtrack\r\n",
      "folk\t\t\t\t  ml-1m.zip.3\r\n",
      "freedb-complete-20161101.tar.bz2  newage\r\n"
     ]
    }
   ],
   "source": [
    "!ls"
   ]
  },
  {
   "cell_type": "markdown",
   "metadata": {},
   "source": [
    "## Parse freedb dataset and upload to cloudant"
   ]
  },
  {
   "cell_type": "code",
   "execution_count": 28,
   "metadata": {
    "collapsed": false
   },
   "outputs": [
    {
     "name": "stdout",
     "output_type": "stream",
     "text": [
      "Collecting git+https://github.com/snowch/freedb_parser\n",
      "  Cloning https://github.com/snowch/freedb_parser to /gpfs/fs01/user/s85d-88ebffb000cc3e-39ca506ba762/notebook/tmp/pip-nj16Pe-build\n",
      "Installing collected packages: freedb-parser\n",
      "  Found existing installation: freedb-parser 0.1\n",
      "    Uninstalling freedb-parser-0.1:\n",
      "      Successfully uninstalled freedb-parser-0.1\n",
      "  Running setup.py install for freedb-parser ... \u001b[?25l-\b \bdone\n",
      "\u001b[?25hSuccessfully installed freedb-parser-0.1\n"
     ]
    }
   ],
   "source": [
    "!pip install --user --upgrade git+https://github.com/snowch/freedb_parser"
   ]
  },
  {
   "cell_type": "code",
   "execution_count": null,
   "metadata": {
    "collapsed": false
   },
   "outputs": [
    {
     "name": "stdout",
     "output_type": "stream",
     "text": [
      "+++++++++++++++++++++++++++++++++++++++++++++++++++++++++++++++++++++++++++++++++++++++++++++++++++++++++++++++++++++++++++++++++++++++++++++++++++++++++++++++++++++++++++++++++++++++++++++++++++++++++++++++++++++++++++++++++++++++++++++++++++++++++++++++++++++++++++++++++++++++++++++++++++++++++++++++++++++++++++++++++++++++++++++++++++++++++++++++++++++++++++++++++++++++++++++++++++++++++++++++++++++++++++++++++++++++++++++++++++++++++++++++++++++++++++++++++++++++++++++++++++++++++++++++++++++++++++++++++++++++++++++++++++++++++++++++++++++++++++++++++++++++++++++++++++++++++++++++++++++++++++++++++++++++++++++++++++++++++++++++++++++++++++++++++++++++++++++++++++++++++++++++++++++++++++++++++++++++++++++++++++++++++++++++++++++++++++++++++++++++++++++++++++++++++++++++++++++++++++++++++++++++++++++++++++++++++++++++++++++++++++++++++++++++++++++++++++++++++++++++++++++++++++++++++++++++++++++++++++++++++++++++++++++++++++++++++++++++++++++++++++++++++++++++++++++++++++++++++++++++++++++++++++++++++++++++++++++++++++++++++++++++++++++++++++++++++++++++++++++++++++++++++++++++++++++++++++++++++++++++++++++++++++++++++++++++++++++++++++++++++++++++++++++++++++++++++++++++++++++++++++++++++++++++++++++++++++++++++++++++++++++++++++++++++++++++++++++++++++++++++++++++++++++++++++++++++++++++++++++++++++++++++++++++++++++++++++++++++++++++++++++++++++++++++++++++++++++++++++++++++++++++++++++++++++++++++++++++++++++++++++++++++++++++++++++++++++++++++++++++++++++++++++++++++++++++++++++++++++++++++++++++++++++++++++++++++++++++++++++++++++++++++++++++++++++++++++++++++++++++++++++++++++++++++++++++++++++++++++++++++++++++++++++++++++++++++++++++++++++++++++++++++++++++++++++++++++++++++++++++++++++++++++++++++++++++++++++++++++++++++++++++++++++++++++++++++++++++++++++++++++++++++++++++++++++++++++++++++++++++++++++++++++++++++++++++++++++++++++++++++++++++++++++++++++++++++++++++++++++++++++++++++++++++++++++++++++++++++++++++++++++++++++++++++++++++++++++++++++++++++++++++++++++++++++++++++++++++++++++++++"
     ]
    }
   ],
   "source": [
    "from arubomu.parsers import freedb\n",
    "import os, sys, json\n",
    "\n",
    "from cloudant.client import Cloudant\n",
    "from cloudant.adapters import Replay429Adapter\n",
    "\n",
    "client = Cloudant(cl_user, cl_pass, url=cl_url, adapter=Replay429Adapter(retries=10))\n",
    "client.connect()\n",
    "my_database = client['musicdb']\n",
    "\n",
    "IMPORT_NUM = -1 # set to -1 to load everything\n",
    "\n",
    "categories = ['blues', 'classical', 'country', 'folk', 'jazz', 'misc', 'newage', 'reggae', 'rock', 'sountrack']\n",
    "\n",
    "for category in categories:\n",
    "    num_imported = 0\n",
    "    for album_id in os.listdir(\"./\" + category):\n",
    "\n",
    "        with open(\"./\" + category + \"/\" + album_id, \"rb\") as f:\n",
    "            fname = os.path.basename(f.name)\n",
    "            album = freedb.parseText(f.read())\n",
    "\n",
    "            if album.title:\n",
    "                title = album.title.strip().decode('utf-8','ignore').encode(\"utf-8\")\n",
    "\n",
    "            if album.artist:\n",
    "                artist = album.artist.strip().decode('utf-8','ignore').encode(\"utf-8\")\n",
    "\n",
    "            album_json = {\n",
    "                '_id'      : fname,\n",
    "                'title'    : title,\n",
    "                'artist'   : artist,\n",
    "            }\n",
    "            try:\n",
    "                # TODO batch these requests\n",
    "                my_document = my_database.create_document(album_json)\n",
    "                if my_document.exists():\n",
    "                    sys.stdout.write('+')\n",
    "                else:\n",
    "                    sys.stdout.write('-')\n",
    "                sys.stdout.flush()\n",
    "            except:\n",
    "                print \"\\nUnexpected error: {0} processing {1}\".format(sys.exc_info()[0], album_id)\n",
    "\n",
    "        if IMPORT_NUM > -1 and num_imported >= IMPORT_NUM:\n",
    "            break\n",
    "\n",
    "        num_imported = num_imported + 1"
   ]
  },
  {
   "cell_type": "markdown",
   "metadata": {},
   "source": [
    "## Create a search index on title and artist"
   ]
  },
  {
   "cell_type": "code",
   "execution_count": 30,
   "metadata": {
    "collapsed": false
   },
   "outputs": [
    {
     "name": "stdout",
     "output_type": "stream",
     "text": [
      "{\"result\":\"created\",\"id\":\"_design/51b2ceee808dabf40825d9792ee8e929e9f4102c\",\"name\":\"title-artist-text\"}\n",
      "\n"
     ]
    }
   ],
   "source": [
    "idx = {\n",
    "    \"index\": {\n",
    "        \"fields\": [\n",
    "            {\n",
    "                \"name\": \"title\",\n",
    "                \"type\": \"string\"\n",
    "            },\n",
    "            {\n",
    "                \"name\": \"artist\",\n",
    "                \"type\": \"string\"\n",
    "            }\n",
    "        ]\n",
    "    },\n",
    "    \"name\": \"title-artist-text\",\n",
    "    \"type\": \"text\"\n",
    "}\n",
    "\n",
    "response = requests.post(cl_url + '/musicdb/_index', auth=(cl_user, cl_pass), data=json.dumps(idx), headers={'Content-Type':'application/json'})\n",
    "print(response.text)"
   ]
  },
  {
   "cell_type": "markdown",
   "metadata": {},
   "source": [
    "## Test the search index"
   ]
  },
  {
   "cell_type": "markdown",
   "metadata": {},
   "source": [
    "Try a few different searchs"
   ]
  },
  {
   "cell_type": "code",
   "execution_count": 31,
   "metadata": {
    "collapsed": false
   },
   "outputs": [
    {
     "name": "stdout",
     "output_type": "stream",
     "text": [
      "{\"docs\":[\r\n",
      "{\"_id\":\"bf129f0d\",\"_rev\":\"1-20a95c944f5c4cf8875028d19005a0e2\",\"artist\":\"Pink Floyd\",\"title\":\"Echoes - Best of Pink Floyd CD2\"},\r\n",
      "{\"_id\":\"380e3a05\",\"_rev\":\"1-121dd602ec035afd09a2f10ecc9f3e69\",\"artist\":\"Pink Floyd\",\"title\":\"Interstellar Encore\"},\r\n",
      "{\"_id\":\"3d09ca05\",\"_rev\":\"1-cca4369c582ee56d1f526463f0cf6c1b\",\"artist\":\"Pink Floyd\",\"title\":\"Animals\"},\r\n",
      "{\"_id\":\"c912ae0d\",\"_rev\":\"1-c8e4bc72c13d2b7f2c8cd9189040d123\",\"artist\":\"Pink Floyd\",\"title\":\"Echoes Collection\"},\r\n",
      "{\"_id\":\"6b096208\",\"_rev\":\"1-43ce5fa1064e55bf8c0000797cd7f139\",\"artist\":\"Pink Floyd\",\"title\":\"Concertgebouw - The Man\"},\r\n",
      "{\"_id\":\"65120c09\",\"_rev\":\"1-54315b397fc6aa815e87c28f93c702b9\",\"artist\":\"PINK FLOYD\",\"title\":\"Stranger Than Fiction\"},\r\n",
      "{\"_id\":\"3709c305\",\"_rev\":\"1-cca4369c582ee56d1f526463f0cf6c1b\",\"artist\":\"Pink Floyd\",\"title\":\"Animals\"},\r\n",
      "{\"_id\":\"890b0b0b\",\"_rev\":\"1-a9627a202dfc2e79630cf6092a89cb44\",\"artist\":\"Pink Floyd\",\"title\":\"Vol. 1\"},\r\n",
      "{\"_id\":\"ae10d40d\",\"_rev\":\"1-a0e8a0f4d274d6cef69a4ecfd616584c\",\"artist\":\"Pink Floyd\",\"title\":\"pulse (Disc-2)\"},\r\n",
      "{\"_id\":\"1212b314\",\"_rev\":\"1-cf9e4b7fa6da5392ef74c3e18284ddfd\",\"artist\":\"PINK FLOYD\",\"title\":\"The Syd Barrett Tapes\"},\r\n",
      "{\"_id\":\"450a6205\",\"_rev\":\"1-124750713f5590293631ce12e99dcfbb\",\"artist\":\"Pink Floyd\",\"title\":\"Wish You Were Here\"},\r\n",
      "{\"_id\":\"5d112207\",\"_rev\":\"1-d404f0fc7b7b6864e01cddf67304bef6\",\"artist\":\"Pink Floyd\",\"title\":\"Atom Heart Mother Goes On the Road\"},\r\n",
      "{\"_id\":\"cc11060e\",\"_rev\":\"1-1c34882ce95ce35d2a16cbddbac25612\",\"artist\":\"Pink Floyd\",\"title\":\"Behind the Wall (CD 2)\"},\r\n",
      "{\"_id\":\"3c0c3c05\",\"_rev\":\"1-75200a5c6044d2f4c6a9fc99f7f26b8c\",\"artist\":\"Pink Floyd\",\"title\":\"1969-05-09\"},\r\n",
      "{\"_id\":\"c70bc80f\",\"_rev\":\"1-e3f51b2d542acfe122c86cb43a6623fb\",\"artist\":\"Pink Floyd\",\"title\":\"Every Brick In The Wall - CD 1\"},\r\n",
      "{\"_id\":\"d40c110e\",\"_rev\":\"1-c520f895c71326091dd2ba89415e8c3a\",\"artist\":\"Pink Floyd\",\"title\":\"The Wall Live Earl's Court 1981 Disc 2\"},\r\n",
      "{\"_id\":\"520f7006\",\"_rev\":\"1-308c041d4ce493cb0c06553b4c96eb1c\",\"artist\":\"Pink Floyd\",\"title\":\"Oakland Coliseum, May 9th 1977 (disc one)\"},\r\n",
      "{\"_id\":\"c00ec30e\",\"_rev\":\"1-40f77466df11754a91045cdd78e44447\",\"artist\":\"Pink Floyd\",\"title\":\"Dark Side Of The Moon: Collector's Edition CD1\"},\r\n",
      "{\"_id\":\"3b0a6305\",\"_rev\":\"1-aff82fe3fad7b80a998b5dda7db34a42\",\"artist\":\"Pink Floyd\",\"title\":\"Wish You Were Here [Shine On 1992]\"},\r\n",
      "{\"_id\":\"4c081b06\",\"_rev\":\"1-06e3e7907df37ad8c6556066cb211011\",\"artist\":\"Pink Floyd\",\"title\":\"Wonderful, Wonderful Copenhagen - Star Club, September 13th, 1967\"},\r\n",
      "{\"_id\":\"1b123324\",\"_rev\":\"1-aa1baa7a44c58e46ce6133f6fc6abb58\",\"artist\":\"Syd Barrett & Pink Floyd\",\"title\":\"Have You Got It Yet? - Vol 04\"}\r\n",
      "],\r\n",
      "\"bookmark\": \"g1AAAASJeJyV071LQlEYBvCrGVItbRE0CFlBdU07FFSDkuAQbRWZlOm514OUKYTNRUM0BAbWcKaamvob-lj64kxFQ1MtNbX0ISllp_e-dwgnOdMDl8uP93nPORlN01rTDabWZVIjt5oKmTQQ8NEV3TB0M5nR_QGfkcmtmcls3pdN5TPwu5N2M2bSfiGul9LOSLD8XH2Cz8lRi_H-M_UUAG4oIWQAlc_89pmlTNcqw_UUAPx0hPN9VCrRGCo9qpWCUv7QCGNJZH7HPRsWM6ZYCQBKJ4W4tJSQq72Ew3gVKwFwRacI0W1lyO2xlHitMlhPAcBH5zgvYqMv733IUsKqiwFhjy5KWcFhGh2HmsXoipXWpSxnXdoCY1t2qWgzlppQWzAQvYQUIQqcc1tyb2KxZbWJgNgFAqIk5YF96C3hhCW5FVcExjxjRxDnQhzbT6Jg4MlHlOvFGLuAOBVCoPR9N4MLj6kPtcP5A8SblI_222iiOFSb8lDvQEDMMvaCUvU2jptKqF1JIE6EeIXoJOQDT89R6cB6fUt_KJZyUA\"}\r\n",
      "\n",
      "\n"
     ]
    }
   ],
   "source": [
    "qry = { \n",
    "    \"selector\": {\n",
    "      \"$text\": \"Floyd\"\n",
    "    }\n",
    "}\n",
    "    \n",
    "response = requests.post(cl_url + '/musicdb/_find', auth=(cl_user, cl_pass), data=json.dumps(qry), headers={'Content-Type':'application/json'})\n",
    "print(response.text)  "
   ]
  },
  {
   "cell_type": "code",
   "execution_count": 32,
   "metadata": {
    "collapsed": false
   },
   "outputs": [
    {
     "name": "stdout",
     "output_type": "stream",
     "text": [
      "{\"docs\":[\r\n",
      "{\"_id\":\"f8107022\",\"_rev\":\"1-6bc21b9716347634041fe2e563c63b30\",\"artist\":\"Paul Wall\",\"title\":\"How To Be A Player\"},\r\n",
      "{\"_id\":\"c412900f\",\"_rev\":\"1-3d74b9aabb6f1faedfd837021a11ad1c\",\"artist\":\"Roger Waters\",\"title\":\"The Wall, Santiago 5.3 2002 cd2\"},\r\n",
      "{\"_id\":\"c70bc80f\",\"_rev\":\"1-e3f51b2d542acfe122c86cb43a6623fb\",\"artist\":\"Pink Floyd\",\"title\":\"Every Brick In The Wall - CD 1\"},\r\n",
      "{\"_id\":\"cc11060e\",\"_rev\":\"1-1c34882ce95ce35d2a16cbddbac25612\",\"artist\":\"Pink Floyd\",\"title\":\"Behind the Wall (CD 2)\"},\r\n",
      "{\"_id\":\"d40c110e\",\"_rev\":\"1-c520f895c71326091dd2ba89415e8c3a\",\"artist\":\"Pink Floyd\",\"title\":\"The Wall Live Earl's Court 1981 Disc 2\"},\r\n",
      "{\"_id\":\"b5114f1e\",\"_rev\":\"1-19610b6fb98e3acdb657b82cba8ad162\",\"artist\":\"Basement Wall - New Breed\",\"title\":\"The New Breed - Want Ad Reader\"},\r\n",
      "{\"_id\":\"4a04b706\",\"_rev\":\"1-e54c18557eccb63c703d4f7224ceb3a3\",\"artist\":\"Bottomed Out - Before I Go\",\"title\":\"Your Picture's On My Wall\"}\r\n",
      "],\r\n",
      "\"bookmark\": \"g1AAAAIIeJzLYWBgYM9gTmFQSUlKzi9KdUhJMtNLytVNTtZNSczRNTDUS87JL01JzCvRy0styQGqZkoyNjY2SLKcOXNqVgaTm_3PiKgDQOFEdVRTDAmYksfCoGVsPBlI9c-cORNiEmcS2CQ9VJOMCJv07f__-UAqOi1tGdikf_5d2Ewi5DOgERrGxpuBVO_MmTvBJv2Yo-AAMkmHZN9FpaUdA1L7z5w5A3GTk0IDyKQokk369P__fSAVnpb2DGzS30txCSCTEkj2XQTQCCC198yZNyCTHFgEjkHiLgsA-Xykgw\"}\r\n",
      "\n",
      "\n"
     ]
    }
   ],
   "source": [
    "qry = { \n",
    "    \"selector\": {\n",
    "      \"$text\": \"Wall\"\n",
    "    }\n",
    "}\n",
    "    \n",
    "response = requests.post(cl_url + '/musicdb/_find', auth=(cl_user, cl_pass), data=json.dumps(qry), headers={'Content-Type':'application/json'})\n",
    "print(response.text)  "
   ]
  },
  {
   "cell_type": "markdown",
   "metadata": {},
   "source": [
    "## Delete cloudant service"
   ]
  },
  {
   "cell_type": "code",
   "execution_count": null,
   "metadata": {
    "collapsed": false
   },
   "outputs": [],
   "source": [
    "cf.delete_service('my_cloudant', force=True)"
   ]
  },
  {
   "cell_type": "markdown",
   "metadata": {},
   "source": []
  },
  {
   "cell_type": "code",
   "execution_count": null,
   "metadata": {
    "collapsed": false
   },
   "outputs": [],
   "source": [
    "!git clone https://github.com/snowch/demo_2710"
   ]
  },
  {
   "cell_type": "code",
   "execution_count": null,
   "metadata": {
    "collapsed": false
   },
   "outputs": [],
   "source": [
    "!cd demo_2710 && git pull"
   ]
  },
  {
   "cell_type": "code",
   "execution_count": null,
   "metadata": {
    "collapsed": false
   },
   "outputs": [],
   "source": [
    "!cd demo_2710/web_app && pip install -r requirements.txt && ./run.sh"
   ]
  },
  {
   "cell_type": "code",
   "execution_count": null,
   "metadata": {
    "collapsed": true
   },
   "outputs": [],
   "source": []
  }
 ],
 "metadata": {
  "kernelspec": {
   "display_name": "Python 2 with Spark 1.6",
   "language": "python",
   "name": "python2"
  },
  "language_info": {
   "codemirror_mode": {
    "name": "ipython",
    "version": 2
   },
   "file_extension": ".py",
   "mimetype": "text/x-python",
   "name": "python",
   "nbconvert_exporter": "python",
   "pygments_lexer": "ipython2",
   "version": "2.7.11"
  }
 },
 "nbformat": 4,
 "nbformat_minor": 0
}