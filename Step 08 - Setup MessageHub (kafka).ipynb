{
 "cells": [
  {
   "cell_type": "markdown",
   "metadata": {},
   "source": [
    "## Overview\n",
    "\n",
    "This notebook:\n",
    "\n",
    "- creates a MessageHub instance in Bluemix\n",
    "- produces some messages using vanilla python\n",
    "- consumes those messages using vanilla python\n",
    "- produces some more messages using vanilla python\n",
    "- consumes those messages using scala spark streaming (requires step 9)\n",
    "- tears down the MessageHub instance"
   ]
  },
  {
   "cell_type": "markdown",
   "metadata": {},
   "source": [
    "Enter your bluemix ID"
   ]
  },
  {
   "cell_type": "code",
   "execution_count": 1,
   "metadata": {
    "collapsed": false
   },
   "outputs": [
    {
     "name": "stdout",
     "output_type": "stream",
     "text": [
      "IBM ID: chris.snow@uk.ibm.com\n"
     ]
    }
   ],
   "source": [
    "from getpass import getpass\n",
    "ibm_id = raw_input(\"IBM ID: \")"
   ]
  },
  {
   "cell_type": "markdown",
   "metadata": {},
   "source": [
    "Enter your bluemix ID password"
   ]
  },
  {
   "cell_type": "code",
   "execution_count": 2,
   "metadata": {
    "collapsed": false
   },
   "outputs": [
    {
     "name": "stdout",
     "output_type": "stream",
     "text": [
      "Password: ········\n"
     ]
    }
   ],
   "source": [
    "from getpass import getpass\n",
    "ibm_id_password = getpass(\"Password: \")"
   ]
  },
  {
   "cell_type": "markdown",
   "metadata": {},
   "source": [
    "Change these variables for your environment"
   ]
  },
  {
   "cell_type": "code",
   "execution_count": 4,
   "metadata": {
    "collapsed": true
   },
   "outputs": [],
   "source": [
    "# change this to point to your bluemix organization name\n",
    "bluemix_organization_name = 'chris.snow@uk.ibm.com'\n",
    "\n",
    "# change this to point to your bluemix space name\n",
    "bluemix_space_name = 'dev'\n",
    "\n",
    "# You may need to change the target_endpoint to:\n",
    "#\n",
    "#   https://api.ng.bluemix.net     - for the US South Region\n",
    "#   https://api.eu-gb.bluemix.net  - for the UK\n",
    "#   https://api.au-syd.bluemix.net - for Australia\n",
    "\n",
    "target_endpoint = 'https://api.ng.bluemix.net'"
   ]
  },
  {
   "cell_type": "markdown",
   "metadata": {},
   "source": [
    "You may want to change these"
   ]
  },
  {
   "cell_type": "code",
   "execution_count": 5,
   "metadata": {
    "collapsed": true
   },
   "outputs": [],
   "source": [
    "# This is the name of the Message Hub service instance that will\n",
    "# be created for you in Bluemix\n",
    "messagehub_instance_name = 'my_messagehub'\n",
    "\n",
    "# This is the name of a topic that will get created for you\n",
    "messagehub_topic_name = 'my_topic'\n",
    "\n",
    "# Do you want to delete any existing MessageHub instance with\n",
    "# messagehub_instance_name for before creating a new one?\n",
    "delete_messagehub_instance = True"
   ]
  },
  {
   "cell_type": "markdown",
   "metadata": {},
   "source": [
    "Install a python utility script from github for interacting with cloud foundry via the API"
   ]
  },
  {
   "cell_type": "code",
   "execution_count": null,
   "metadata": {
    "collapsed": false
   },
   "outputs": [],
   "source": [
    "!pip install --user --upgrade --quiet git+https://github.com/snowch/cf-python-client\n",
    "!pip install --user --upgrade --quiet git+https://github.com/snowch/nb_utils\n",
    "    \n",
    "# note to install a specific commit sha\n",
    "# !pip install --user --upgrade --force --quiet git+https://github.com/snowch/nb_utils@commit_sha"
   ]
  },
  {
   "cell_type": "markdown",
   "metadata": {},
   "source": [
    "print version (commit sha) of installed nb_utils for traceability purposes"
   ]
  },
  {
   "cell_type": "code",
   "execution_count": 28,
   "metadata": {
    "collapsed": false
   },
   "outputs": [
    {
     "data": {
      "text/plain": [
       "u'04d1ae56e6093a2ac52818661bd8679df2a36c9b'"
      ]
     },
     "execution_count": 28,
     "metadata": {},
     "output_type": "execute_result"
    }
   ],
   "source": [
    "import requests\n",
    "requests.get('https://api.github.com/repos/snowch/nb_utils/git/refs/heads/master').json()['object']['sha']"
   ]
  },
  {
   "cell_type": "markdown",
   "metadata": {},
   "source": [
    "Create a python object for interacting with cloud foundry"
   ]
  },
  {
   "cell_type": "code",
   "execution_count": 8,
   "metadata": {
    "collapsed": false
   },
   "outputs": [],
   "source": [
    "from mh_utils import mh_utils\n",
    "mh = mh_utils.MessageHubUtil(target_endpoint, ibm_id, ibm_id_password, bluemix_organization_name, bluemix_space_name)"
   ]
  },
  {
   "cell_type": "markdown",
   "metadata": {},
   "source": [
    "Remove any MessageHub instances with the messagehub_instance_name"
   ]
  },
  {
   "cell_type": "code",
   "execution_count": 9,
   "metadata": {
    "collapsed": false
   },
   "outputs": [
    {
     "name": "stdout",
     "output_type": "stream",
     "text": [
      "\n"
     ]
    }
   ],
   "source": [
    "if delete_messagehub_instance:\n",
    "    mh.delete_service_instance(messagehub_instance_name, True)"
   ]
  },
  {
   "cell_type": "markdown",
   "metadata": {},
   "source": [
    "Create a MessageHub service instance\n",
    "```\n",
    "mh_service_plan_guid = 'fe959ac5-aa47-43a6-9c58-6fc265ee9b0e'\n",
    "\n",
    "# This is the guid of the Message Hub service plan. I found this using:\n",
    "#\n",
    "#   cf = CloudFoundryUtil(target_endpoint, ibm_id, ibm_id_password, bluemix_org_name, bluemix_space_name)\n",
    "#   print(cf.search_plans('message hub'))\n",
    "```"
   ]
  },
  {
   "cell_type": "code",
   "execution_count": 10,
   "metadata": {
    "collapsed": false
   },
   "outputs": [],
   "source": [
    "mh_service_plan_guid = 'fe959ac5-aa47-43a6-9c58-6fc265ee9b0e'\n",
    "mh.create_service_instance(mh_service_plan_guid, messagehub_instance_name)"
   ]
  },
  {
   "cell_type": "markdown",
   "metadata": {},
   "source": [
    "Extract some variables that we will need to work with the MessageHub instance"
   ]
  },
  {
   "cell_type": "code",
   "execution_count": 15,
   "metadata": {
    "collapsed": false
   },
   "outputs": [],
   "source": [
    "with open('messagehub.properties', 'w') as w:\n",
    "    w.write(mh.get_properties(messagehub_instance_name))\n",
    "    w.write('messagehub_topic_name={0}'.format(messagehub_topic_name))"
   ]
  },
  {
   "cell_type": "markdown",
   "metadata": {},
   "source": [
    "Create a topic in the MessageHub instance"
   ]
  },
  {
   "cell_type": "code",
   "execution_count": 12,
   "metadata": {
    "collapsed": false
   },
   "outputs": [
    {
     "name": "stdout",
     "output_type": "stream",
     "text": [
      "[{\"name\":\"my_topic\",\"partitions\":1,\"retentionMs\":\"86400000\",\"markedForDeletion\":false}]\n",
      "[{\"name\":\"my_topic\",\"partitions\":1,\"retentionMs\":\"86400000\",\"markedForDeletion\":false},{\"name\":\"my_topic_responses\",\"partitions\":1,\"retentionMs\":\"86400000\",\"markedForDeletion\":false}]\n"
     ]
    }
   ],
   "source": [
    "mh.create_topic(messagehub_instance_name, messagehub_topic_name)\n",
    "mh.create_topic(messagehub_instance_name, messagehub_topic_name + \"_responses\")"
   ]
  },
  {
   "cell_type": "markdown",
   "metadata": {},
   "source": [
    "Send some messages"
   ]
  },
  {
   "cell_type": "code",
   "execution_count": 13,
   "metadata": {
    "collapsed": false
   },
   "outputs": [],
   "source": [
    "mh.produce_message(messagehub_instance_name, messagehub_topic_name, b'some_raw_bytes_1')\n",
    "mh.produce_message(messagehub_instance_name, messagehub_topic_name, b'some_raw_bytes_1')"
   ]
  },
  {
   "cell_type": "code",
   "execution_count": 14,
   "metadata": {
    "collapsed": false
   },
   "outputs": [
    {
     "name": "stdout",
     "output_type": "stream",
     "text": [
      "my_topic:0:0: key=None value=some_raw_bytes_1\n",
      "my_topic:0:1: key=None value=some_raw_bytes_1\n"
     ]
    }
   ],
   "source": [
    "mh.consume_messages(messagehub_instance_name, messagehub_topic_name)"
   ]
  },
  {
   "cell_type": "markdown",
   "metadata": {},
   "source": [
    "## Send prediction requests to MessageHub for spark streaming"
   ]
  },
  {
   "cell_type": "markdown",
   "metadata": {},
   "source": [
    "Now open the notebook **\"Step 9 - Scala spark streaming on DSX\"** in another browser window.<br>\n",
    "Run the notebook and while it is running, put some more messages in kafka by running the cell below."
   ]
  },
  {
   "cell_type": "markdown",
   "metadata": {},
   "source": [
    "### STEP 08 (A) - Produce Prediction Requests"
   ]
  },
  {
   "cell_type": "code",
   "execution_count": 25,
   "metadata": {
    "collapsed": false
   },
   "outputs": [],
   "source": [
    "mh.produce_message(messagehub_instance_name, messagehub_topic_name, '1,500') # user_id | movie_id\n",
    "mh.produce_message(messagehub_instance_name, messagehub_topic_name, '1,501') # user_id | movie_id\n",
    "mh.produce_message(messagehub_instance_name, messagehub_topic_name, '1,502') # user_id | movie_id\n",
    "mh.produce_message(messagehub_instance_name, messagehub_topic_name, '1,503') # user_id | movie_id\n",
    "mh.produce_message(messagehub_instance_name, messagehub_topic_name, '1000003,503') # user_id | movie_id : invalid user"
   ]
  },
  {
   "cell_type": "markdown",
   "metadata": {},
   "source": [
    "The step 09 or 10 notebook should have made some predictions and put them on the responses topic.<br>\n",
    "Run the following cell to retrieve the responses from kafka."
   ]
  },
  {
   "cell_type": "markdown",
   "metadata": {},
   "source": [
    "### STEP 08 (B) - Consume Prediction Responses"
   ]
  },
  {
   "cell_type": "code",
   "execution_count": 26,
   "metadata": {
    "collapsed": false
   },
   "outputs": [
    {
     "name": "stdout",
     "output_type": "stream",
     "text": [
      "my_topic_responses:0:0: key=None value=1, 500, 3.715163746095887\n",
      "my_topic_responses:0:1: key=None value=1, 501, 3.1018965193747663\n",
      "my_topic_responses:0:2: key=None value=1, 502, 1.9472057011680621\n",
      "my_topic_responses:0:3: key=None value=1, 503, 2.6929616601709423\n",
      "my_topic_responses:0:4: key=None value=1000003, 503, -1\n",
      "my_topic_responses:0:5: key=None value=1, 500, 3.715163746095887\n",
      "my_topic_responses:0:6: key=None value=1, 501, 3.1018965193747663\n",
      "my_topic_responses:0:7: key=None value=1, 502, 1.9472057011680621\n",
      "my_topic_responses:0:8: key=None value=1, 503, 2.6929616601709423\n",
      "my_topic_responses:0:9: key=None value=1000003, 503, -1\n",
      "my_topic_responses:0:10: key=None value=1, 500, 3.715163746095887\n",
      "my_topic_responses:0:11: key=None value=1, 501, 3.1018965193747663\n",
      "my_topic_responses:0:12: key=None value=1, 502, 1.9472057011680621\n",
      "my_topic_responses:0:13: key=None value=1, 503, 2.6929616601709423\n",
      "my_topic_responses:0:14: key=None value=1000003, 503, -1\n",
      "my_topic_responses:0:15: key=None value=BigInsights_Streaming_Predictor,1, 500, 3.715163746095887\n",
      "my_topic_responses:0:16: key=None value=BigInsights_Streaming_Predictor,1, 501, 3.1018965193747663\n",
      "my_topic_responses:0:17: key=None value=BigInsights_Streaming_Predictor,1, 502, 1.9472057011680621\n",
      "my_topic_responses:0:18: key=None value=BigInsights_Streaming_Predictor,1, 503, 2.6929616601709423\n",
      "my_topic_responses:0:19: key=None value=BigInsights_Streaming_Predictor,1000003, 503, -1\n",
      "my_topic_responses:0:20: key=None value=BigInsights_Streaming_Predictor,1, 500, 3.715163746095887\n",
      "my_topic_responses:0:21: key=None value=BigInsights_Streaming_Predictor,1, 501, 3.1018965193747663\n",
      "my_topic_responses:0:22: key=None value=BigInsights_Streaming_Predictor,1, 502, 1.9472057011680621\n",
      "my_topic_responses:0:23: key=None value=BigInsights_Streaming_Predictor,1, 503, 2.6929616601709423\n",
      "my_topic_responses:0:24: key=None value=BigInsights_Streaming_Predictor,1000003, 503, -1\n"
     ]
    }
   ],
   "source": [
    "mh.consume_messages(messagehub_instance_name, messagehub_topic_name + \"_responses\")"
   ]
  },
  {
   "cell_type": "code",
   "execution_count": null,
   "metadata": {
    "collapsed": true
   },
   "outputs": [],
   "source": []
  }
 ],
 "metadata": {
  "kernelspec": {
   "display_name": "Python 2 with Spark 1.6",
   "language": "python",
   "name": "python2"
  },
  "language_info": {
   "codemirror_mode": {
    "name": "ipython",
    "version": 2
   },
   "file_extension": ".py",
   "mimetype": "text/x-python",
   "name": "python",
   "nbconvert_exporter": "python",
   "pygments_lexer": "ipython2",
   "version": "2.7.11"
  }
 },
 "nbformat": 4,
 "nbformat_minor": 0
}